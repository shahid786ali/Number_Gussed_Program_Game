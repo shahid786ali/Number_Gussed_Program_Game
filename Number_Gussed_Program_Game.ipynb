{
 "cells": [
  {
   "cell_type": "code",
   "execution_count": 1,
   "id": "46c97914",
   "metadata": {},
   "outputs": [
    {
     "name": "stdout",
     "output_type": "stream",
     "text": [
      "Welcome to Guess the Number!\n",
      "I have chosen a number between 1 and 1000. Can you guess it?\n",
      "Enter your guess: 450\n",
      "Too low! Try again.\n",
      "Enter your guess: 850\n",
      "Too high! Try again.\n",
      "Enter your guess: 650\n",
      "Too low! Try again.\n",
      "Enter your guess: 750\n",
      "Too low! Try again.\n",
      "Enter your guess: 800\n",
      "Too low! Try again.\n",
      "Enter your guess: 820\n",
      "Too low! Try again.\n",
      "Enter your guess: 840\n",
      "Too high! Try again.\n",
      "Enter your guess: 830\n",
      "Too low! Try again.\n",
      "Enter your guess: 835\n",
      "Congratulations! You guessed the number!\n",
      "Number of attempts: 9\n"
     ]
    }
   ],
   "source": [
    "import random\n",
    "\n",
    "def play_guess_the_number():\n",
    "    number_to_guess = random.randint(1, 1000)\n",
    "    attempts = 0\n",
    "\n",
    "    print(\"Welcome to Guess the Number!\")\n",
    "    print(\"I have chosen a number between 1 and 1000. Can you guess it?\")\n",
    "\n",
    "    while True:\n",
    "        guess = int(input(\"Enter your guess: \"))\n",
    "        attempts += 1\n",
    "\n",
    "        if guess < number_to_guess:\n",
    "            print(\"Too low! Try again.\")\n",
    "        elif guess > number_to_guess:\n",
    "            print(\"Too high! Try again.\")\n",
    "        else:\n",
    "            print(\"Congratulations! You guessed the number!\")\n",
    "            print(\"Number of attempts:\", attempts)\n",
    "            break\n",
    "\n",
    "play_guess_the_number()\n"
   ]
  },
  {
   "cell_type": "code",
   "execution_count": null,
   "id": "36ae8bfc",
   "metadata": {},
   "outputs": [],
   "source": []
  }
 ],
 "metadata": {
  "kernelspec": {
   "display_name": "Python 3",
   "language": "python",
   "name": "python3"
  },
  "language_info": {
   "codemirror_mode": {
    "name": "ipython",
    "version": 3
   },
   "file_extension": ".py",
   "mimetype": "text/x-python",
   "name": "python",
   "nbconvert_exporter": "python",
   "pygments_lexer": "ipython3",
   "version": "3.8.8"
  }
 },
 "nbformat": 4,
 "nbformat_minor": 5
}
